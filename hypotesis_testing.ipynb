{
 "cells": [
  {
   "cell_type": "markdown",
   "metadata": {},
   "source": [
    "# Hypothesis Testing\n",
    "## Nivell 1\n",
    "### Exercici 1 \n",
    "##### Calcula el p-valor i digues si rebutja la hipòtesi nul·la agafant un alfa de 5%. \n",
    "\n",
    "\n"
   ]
  },
  {
   "cell_type": "code",
   "execution_count": 164,
   "metadata": {},
   "outputs": [],
   "source": [
    "import pandas as pd\n",
    "import scipy\n",
    "import matplotlib.pyplot as plt\n",
    "import seaborn as sns\n",
    "import numpy as np\n",
    "\n",
    "from scipy.stats import ttest_1samp, ttest_ind, f_oneway\n",
    "from statsmodels.stats.multicomp import pairwise_tukeyhsd"
   ]
  },
  {
   "cell_type": "code",
   "execution_count": 90,
   "metadata": {},
   "outputs": [],
   "source": [
    "df = pd.read_csv(r'C:/Users/adria/tasca 8/fifa_cleaned.csv')"
   ]
  },
  {
   "cell_type": "code",
   "execution_count": 28,
   "metadata": {},
   "outputs": [
    {
     "data": {
      "text/html": [
       "<div>\n",
       "<style scoped>\n",
       "    .dataframe tbody tr th:only-of-type {\n",
       "        vertical-align: middle;\n",
       "    }\n",
       "\n",
       "    .dataframe tbody tr th {\n",
       "        vertical-align: top;\n",
       "    }\n",
       "\n",
       "    .dataframe thead th {\n",
       "        text-align: right;\n",
       "    }\n",
       "</style>\n",
       "<table border=\"1\" class=\"dataframe\">\n",
       "  <thead>\n",
       "    <tr style=\"text-align: right;\">\n",
       "      <th></th>\n",
       "      <th>id</th>\n",
       "      <th>name</th>\n",
       "      <th>full_name</th>\n",
       "      <th>birth_date</th>\n",
       "      <th>age</th>\n",
       "      <th>height_cm</th>\n",
       "      <th>weight_kgs</th>\n",
       "      <th>positions</th>\n",
       "      <th>nationality</th>\n",
       "      <th>overall_rating</th>\n",
       "      <th>...</th>\n",
       "      <th>LWB</th>\n",
       "      <th>LDM</th>\n",
       "      <th>CDM</th>\n",
       "      <th>RDM</th>\n",
       "      <th>RWB</th>\n",
       "      <th>LB</th>\n",
       "      <th>LCB</th>\n",
       "      <th>CB</th>\n",
       "      <th>RCB</th>\n",
       "      <th>RB</th>\n",
       "    </tr>\n",
       "  </thead>\n",
       "  <tbody>\n",
       "    <tr>\n",
       "      <th>0</th>\n",
       "      <td>158023</td>\n",
       "      <td>L. Messi</td>\n",
       "      <td>Lionel Andrés Messi Cuccittini</td>\n",
       "      <td>1987-06-24</td>\n",
       "      <td>31</td>\n",
       "      <td>170.18</td>\n",
       "      <td>72.1</td>\n",
       "      <td>CF,RW,ST</td>\n",
       "      <td>Argentina</td>\n",
       "      <td>94</td>\n",
       "      <td>...</td>\n",
       "      <td>64+2</td>\n",
       "      <td>61+2</td>\n",
       "      <td>61+2</td>\n",
       "      <td>61+2</td>\n",
       "      <td>64+2</td>\n",
       "      <td>59+2</td>\n",
       "      <td>48+2</td>\n",
       "      <td>48+2</td>\n",
       "      <td>48+2</td>\n",
       "      <td>59+2</td>\n",
       "    </tr>\n",
       "    <tr>\n",
       "      <th>1</th>\n",
       "      <td>190460</td>\n",
       "      <td>C. Eriksen</td>\n",
       "      <td>Christian  Dannemann Eriksen</td>\n",
       "      <td>1992-02-14</td>\n",
       "      <td>27</td>\n",
       "      <td>154.94</td>\n",
       "      <td>76.2</td>\n",
       "      <td>CAM,RM,CM</td>\n",
       "      <td>Denmark</td>\n",
       "      <td>88</td>\n",
       "      <td>...</td>\n",
       "      <td>71+3</td>\n",
       "      <td>71+3</td>\n",
       "      <td>71+3</td>\n",
       "      <td>71+3</td>\n",
       "      <td>71+3</td>\n",
       "      <td>66+3</td>\n",
       "      <td>57+3</td>\n",
       "      <td>57+3</td>\n",
       "      <td>57+3</td>\n",
       "      <td>66+3</td>\n",
       "    </tr>\n",
       "    <tr>\n",
       "      <th>2</th>\n",
       "      <td>195864</td>\n",
       "      <td>P. Pogba</td>\n",
       "      <td>Paul Pogba</td>\n",
       "      <td>1993-03-15</td>\n",
       "      <td>25</td>\n",
       "      <td>190.50</td>\n",
       "      <td>83.9</td>\n",
       "      <td>CM,CAM</td>\n",
       "      <td>France</td>\n",
       "      <td>88</td>\n",
       "      <td>...</td>\n",
       "      <td>76+3</td>\n",
       "      <td>77+3</td>\n",
       "      <td>77+3</td>\n",
       "      <td>77+3</td>\n",
       "      <td>76+3</td>\n",
       "      <td>74+3</td>\n",
       "      <td>72+3</td>\n",
       "      <td>72+3</td>\n",
       "      <td>72+3</td>\n",
       "      <td>74+3</td>\n",
       "    </tr>\n",
       "    <tr>\n",
       "      <th>3</th>\n",
       "      <td>198219</td>\n",
       "      <td>L. Insigne</td>\n",
       "      <td>Lorenzo Insigne</td>\n",
       "      <td>1991-06-04</td>\n",
       "      <td>27</td>\n",
       "      <td>162.56</td>\n",
       "      <td>59.0</td>\n",
       "      <td>LW,ST</td>\n",
       "      <td>Italy</td>\n",
       "      <td>88</td>\n",
       "      <td>...</td>\n",
       "      <td>63+3</td>\n",
       "      <td>58+3</td>\n",
       "      <td>58+3</td>\n",
       "      <td>58+3</td>\n",
       "      <td>63+3</td>\n",
       "      <td>58+3</td>\n",
       "      <td>44+3</td>\n",
       "      <td>44+3</td>\n",
       "      <td>44+3</td>\n",
       "      <td>58+3</td>\n",
       "    </tr>\n",
       "    <tr>\n",
       "      <th>4</th>\n",
       "      <td>201024</td>\n",
       "      <td>K. Koulibaly</td>\n",
       "      <td>Kalidou Koulibaly</td>\n",
       "      <td>1991-06-20</td>\n",
       "      <td>27</td>\n",
       "      <td>187.96</td>\n",
       "      <td>88.9</td>\n",
       "      <td>CB</td>\n",
       "      <td>Senegal</td>\n",
       "      <td>88</td>\n",
       "      <td>...</td>\n",
       "      <td>73+3</td>\n",
       "      <td>77+3</td>\n",
       "      <td>77+3</td>\n",
       "      <td>77+3</td>\n",
       "      <td>73+3</td>\n",
       "      <td>76+3</td>\n",
       "      <td>85+3</td>\n",
       "      <td>85+3</td>\n",
       "      <td>85+3</td>\n",
       "      <td>76+3</td>\n",
       "    </tr>\n",
       "  </tbody>\n",
       "</table>\n",
       "<p>5 rows × 92 columns</p>\n",
       "</div>"
      ],
      "text/plain": [
       "       id          name                       full_name  birth_date  age  \\\n",
       "0  158023      L. Messi  Lionel Andrés Messi Cuccittini  1987-06-24   31   \n",
       "1  190460    C. Eriksen    Christian  Dannemann Eriksen  1992-02-14   27   \n",
       "2  195864      P. Pogba                      Paul Pogba  1993-03-15   25   \n",
       "3  198219    L. Insigne                 Lorenzo Insigne  1991-06-04   27   \n",
       "4  201024  K. Koulibaly               Kalidou Koulibaly  1991-06-20   27   \n",
       "\n",
       "   height_cm  weight_kgs  positions nationality  overall_rating  ...   LWB  \\\n",
       "0     170.18        72.1   CF,RW,ST   Argentina              94  ...  64+2   \n",
       "1     154.94        76.2  CAM,RM,CM     Denmark              88  ...  71+3   \n",
       "2     190.50        83.9     CM,CAM      France              88  ...  76+3   \n",
       "3     162.56        59.0      LW,ST       Italy              88  ...  63+3   \n",
       "4     187.96        88.9         CB     Senegal              88  ...  73+3   \n",
       "\n",
       "    LDM   CDM   RDM   RWB    LB   LCB    CB   RCB    RB  \n",
       "0  61+2  61+2  61+2  64+2  59+2  48+2  48+2  48+2  59+2  \n",
       "1  71+3  71+3  71+3  71+3  66+3  57+3  57+3  57+3  66+3  \n",
       "2  77+3  77+3  77+3  76+3  74+3  72+3  72+3  72+3  74+3  \n",
       "3  58+3  58+3  58+3  63+3  58+3  44+3  44+3  44+3  58+3  \n",
       "4  77+3  77+3  77+3  73+3  76+3  85+3  85+3  85+3  76+3  \n",
       "\n",
       "[5 rows x 92 columns]"
      ]
     },
     "execution_count": 28,
     "metadata": {},
     "output_type": "execute_result"
    }
   ],
   "source": [
    "df.head() "
   ]
  },
  {
   "cell_type": "code",
   "execution_count": 29,
   "metadata": {},
   "outputs": [
    {
     "name": "stdout",
     "output_type": "stream",
     "text": [
      "<class 'pandas.core.frame.DataFrame'>\n",
      "RangeIndex: 17954 entries, 0 to 17953\n",
      "Data columns (total 92 columns):\n",
      " #   Column                         Non-Null Count  Dtype  \n",
      "---  ------                         --------------  -----  \n",
      " 0   id                             17954 non-null  int64  \n",
      " 1   name                           17954 non-null  object \n",
      " 2   full_name                      17954 non-null  object \n",
      " 3   birth_date                     17954 non-null  object \n",
      " 4   age                            17954 non-null  int64  \n",
      " 5   height_cm                      17954 non-null  float64\n",
      " 6   weight_kgs                     17954 non-null  float64\n",
      " 7   positions                      17954 non-null  object \n",
      " 8   nationality                    17954 non-null  object \n",
      " 9   overall_rating                 17954 non-null  int64  \n",
      " 10  potential                      17954 non-null  int64  \n",
      " 11  value_euro                     17699 non-null  float64\n",
      " 12  wage_euro                      17708 non-null  float64\n",
      " 13  preferred_foot                 17954 non-null  object \n",
      " 14  international_reputation(1-5)  17954 non-null  int64  \n",
      " 15  weak_foot(1-5)                 17954 non-null  int64  \n",
      " 16  skill_moves(1-5)               17954 non-null  int64  \n",
      " 17  work_rate                      17954 non-null  object \n",
      " 18  body_type                      17954 non-null  object \n",
      " 19  release_clause_euro            16117 non-null  float64\n",
      " 20  club_team                      17940 non-null  object \n",
      " 21  club_rating                    17940 non-null  float64\n",
      " 22  club_position                  17940 non-null  object \n",
      " 23  club_jersey_number             17940 non-null  float64\n",
      " 24  club_join_date                 16018 non-null  object \n",
      " 25  contract_end_year              17593 non-null  object \n",
      " 26  national_team                  857 non-null    object \n",
      " 27  national_rating                857 non-null    float64\n",
      " 28  national_team_position         857 non-null    object \n",
      " 29  national_jersey_number         857 non-null    float64\n",
      " 30  crossing                       17954 non-null  int64  \n",
      " 31  finishing                      17954 non-null  int64  \n",
      " 32  heading_accuracy               17954 non-null  int64  \n",
      " 33  short_passing                  17954 non-null  int64  \n",
      " 34  volleys                        17954 non-null  int64  \n",
      " 35  dribbling                      17954 non-null  int64  \n",
      " 36  curve                          17954 non-null  int64  \n",
      " 37  freekick_accuracy              17954 non-null  int64  \n",
      " 38  long_passing                   17954 non-null  int64  \n",
      " 39  ball_control                   17954 non-null  int64  \n",
      " 40  acceleration                   17954 non-null  int64  \n",
      " 41  sprint_speed                   17954 non-null  int64  \n",
      " 42  agility                        17954 non-null  int64  \n",
      " 43  reactions                      17954 non-null  int64  \n",
      " 44  balance                        17954 non-null  int64  \n",
      " 45  shot_power                     17954 non-null  int64  \n",
      " 46  jumping                        17954 non-null  int64  \n",
      " 47  stamina                        17954 non-null  int64  \n",
      " 48  strength                       17954 non-null  int64  \n",
      " 49  long_shots                     17954 non-null  int64  \n",
      " 50  aggression                     17954 non-null  int64  \n",
      " 51  interceptions                  17954 non-null  int64  \n",
      " 52  positioning                    17954 non-null  int64  \n",
      " 53  vision                         17954 non-null  int64  \n",
      " 54  penalties                      17954 non-null  int64  \n",
      " 55  composure                      17954 non-null  int64  \n",
      " 56  marking                        17954 non-null  int64  \n",
      " 57  standing_tackle                17954 non-null  int64  \n",
      " 58  sliding_tackle                 17954 non-null  int64  \n",
      " 59  GK_diving                      17954 non-null  int64  \n",
      " 60  GK_handling                    17954 non-null  int64  \n",
      " 61  GK_kicking                     17954 non-null  int64  \n",
      " 62  GK_positioning                 17954 non-null  int64  \n",
      " 63  GK_reflexes                    17954 non-null  int64  \n",
      " 64  tags                           1417 non-null   object \n",
      " 65  traits                         8137 non-null   object \n",
      " 66  LS                             15889 non-null  object \n",
      " 67  ST                             15889 non-null  object \n",
      " 68  RS                             15889 non-null  object \n",
      " 69  LW                             15889 non-null  object \n",
      " 70  LF                             15889 non-null  object \n",
      " 71  CF                             15889 non-null  object \n",
      " 72  RF                             15889 non-null  object \n",
      " 73  RW                             15889 non-null  object \n",
      " 74  LAM                            15889 non-null  object \n",
      " 75  CAM                            15889 non-null  object \n",
      " 76  RAM                            15889 non-null  object \n",
      " 77  LM                             15889 non-null  object \n",
      " 78  LCM                            15889 non-null  object \n",
      " 79  CM                             15889 non-null  object \n",
      " 80  RCM                            15889 non-null  object \n",
      " 81  RM                             15889 non-null  object \n",
      " 82  LWB                            15889 non-null  object \n",
      " 83  LDM                            15889 non-null  object \n",
      " 84  CDM                            15889 non-null  object \n",
      " 85  RDM                            15889 non-null  object \n",
      " 86  RWB                            15889 non-null  object \n",
      " 87  LB                             15889 non-null  object \n",
      " 88  LCB                            15889 non-null  object \n",
      " 89  CB                             15889 non-null  object \n",
      " 90  RCB                            15889 non-null  object \n",
      " 91  RB                             15889 non-null  object \n",
      "dtypes: float64(9), int64(41), object(42)\n",
      "memory usage: 12.6+ MB\n"
     ]
    }
   ],
   "source": [
    "df.info()"
   ]
  },
  {
   "cell_type": "code",
   "execution_count": 30,
   "metadata": {},
   "outputs": [
    {
     "data": {
      "text/plain": [
       "<AxesSubplot:xlabel='age', ylabel='Count'>"
      ]
     },
     "execution_count": 30,
     "metadata": {},
     "output_type": "execute_result"
    },
    {
     "data": {
      "image/png": "[encoded data removed]",
      "text/plain": [
       "<Figure size 1152x432 with 1 Axes>"
      ]
     },
     "metadata": {
      "needs_background": "light"
     },
     "output_type": "display_data"
    }
   ],
   "source": [
    "## histograma  edats\n",
    "plt.figure(figsize=(16, 6))\n",
    "sns.histplot(data=df, x='age')\n"
   ]
  },
  {
   "cell_type": "code",
   "execution_count": 33,
   "metadata": {},
   "outputs": [
    {
     "name": "stdout",
     "output_type": "stream",
     "text": [
      "the mean of age is : 25.565\n"
     ]
    }
   ],
   "source": [
    "## mitjana de edat\n",
    "print('the mean of age is :',round(df['age'].mean(),3))"
   ]
  },
  {
   "cell_type": "markdown",
   "metadata": {},
   "source": [
    "### Hipotesis:\n",
    "\n",
    "\n",
    "   - $ H_{0} : \\mu_{M} = 25 $  \n",
    "   - $ H_{1} : \\mu_{M} \\neq 25 $\n",
    "     "
   ]
  },
  {
   "cell_type": "code",
   "execution_count": 38,
   "metadata": {},
   "outputs": [
    {
     "name": "stdout",
     "output_type": "stream",
     "text": [
      "t-stadistic= 16.101\n",
      "p-value=0.000\n",
      "we can reject H0\n"
     ]
    }
   ],
   "source": [
    "ALPHA = 0.05\n",
    "\n",
    "stat, p = ttest_1samp(df['age'], popmean = 25)\n",
    "print(f't-stadistic= {stat:.3f}\\np-value={p:.3f}')\n",
    "print('We can not reject h0')if p>ALPHA else print('we can reject H0')"
   ]
  },
  {
   "cell_type": "markdown",
   "metadata": {},
   "source": [
    "conclusio:\n",
    "Rebujemt la hipotesis de que la mitja d'edat esta en 25 anys\n",
    "\n",
    "\n"
   ]
  },
  {
   "cell_type": "markdown",
   "metadata": {},
   "source": [
    "# Nivell 2\n",
    "## Exercici 2 \n",
    "Continua amb el conjunt de dades de tema esportiu que t'agradi i selecciona dos altres atributs del conjunt de dades. Calcula els p-valors i digues si rebutgen la hipòtesi nul·la agafant un alfa de 5%."
   ]
  },
  {
   "cell_type": "code",
   "execution_count": 87,
   "metadata": {},
   "outputs": [],
   "source": [
    "filter = (df['nationality']=='England') |(df['nationality']=='Germany')\n"
   ]
  },
  {
   "cell_type": "code",
   "execution_count": 91,
   "metadata": {},
   "outputs": [],
   "source": [
    "nations=df.where(filter)"
   ]
  },
  {
   "cell_type": "code",
   "execution_count": 98,
   "metadata": {},
   "outputs": [
    {
     "data": {
      "text/plain": [
       "<AxesSubplot:xlabel='age', ylabel='Count'>"
      ]
     },
     "execution_count": 98,
     "metadata": {},
     "output_type": "execute_result"
    },
    {
     "data": {
      "image/png": "[encoded data removed]",
      "text/plain": [
       "<Figure size 1152x432 with 1 Axes>"
      ]
     },
     "metadata": {
      "needs_background": "light"
     },
     "output_type": "display_data"
    }
   ],
   "source": [
    "nations.dropna()\n",
    "plt.figure(figsize=(16, 6))\n",
    "sns.histplot(data=nations, x='age',hue='nationality')"
   ]
  },
  {
   "cell_type": "markdown",
   "metadata": {},
   "source": [
    "### Hipotesis:\n",
    "\n",
    "\n",
    "   - $ H_{0} : \\mu_{G} =\\mu_{E} $ l'edat mitjana de jugadors alemans es **igual** a la dels jugadors anglesos \n",
    "   - $ H_{1} : \\mu_{G} \\neq \\mu_{E}  $ l'edad mitjana de jugadors alemans **no es igual** a la dels jugadors anglesos\n",
    "     "
   ]
  },
  {
   "cell_type": "code",
   "execution_count": 143,
   "metadata": {},
   "outputs": [
    {
     "name": "stdout",
     "output_type": "stream",
     "text": [
      "england= 24.60132689987937 germany= 24.891576313594662\n",
      "t-stadistic =-1.660\n",
      "p-value =-1.660\n",
      "We can not reject H0\n"
     ]
    }
   ],
   "source": [
    "alpha = 0.05\n",
    "age_england = nations.loc[nations.nationality=='England','age']\n",
    "age_germany = nations.loc[nations.nationality == 'Germany','age']\n",
    "print('england=',age_england.mean(),'germany=',age_germany.mean())\n",
    "stat, p = ttest_ind(age_england,age_germany)\n",
    "print(f't-stadistic ={stat:.3f}\\np-value ={stat:.3f}')\n",
    "print('We can not reject H0') if p > alpha else print('We can reject H0')\n"
   ]
  },
  {
   "cell_type": "markdown",
   "metadata": {},
   "source": [
    "conclusió:\n",
    "no rebutjem la hipotesis nula ja que no arriba al 0.05 de significança\n"
   ]
  },
  {
   "cell_type": "markdown",
   "metadata": {},
   "source": [
    "# Nivell 3\n",
    "## Exercici 3\n",
    "Continua amb el conjunt de dades de tema esportiu que t'agradi i selecciona tres atributs del conjunt de dades. Calcula el p-valor i digues si rebutja la hipòtesi nul·la agafant un alfa de 5%.\n",
    "\n",
    "\n",
    "\n"
   ]
  },
  {
   "cell_type": "code",
   "execution_count": 197,
   "metadata": {},
   "outputs": [],
   "source": [
    "filter = (df['nationality']=='Italy') |(df['nationality']=='England')|(df['nationality']=='Spain')"
   ]
  },
  {
   "cell_type": "code",
   "execution_count": 217,
   "metadata": {
    "scrolled": true
   },
   "outputs": [
    {
     "data": {
      "text/plain": [
       "<AxesSubplot:xlabel='overall_rating', ylabel='Count'>"
      ]
     },
     "execution_count": 217,
     "metadata": {},
     "output_type": "execute_result"
    },
    {
     "data": {
      "image/png": "[encoded data removed]",
      "text/plain": [
       "<Figure size 1152x432 with 1 Axes>"
      ]
     },
     "metadata": {
      "needs_background": "light"
     },
     "output_type": "display_data"
    }
   ],
   "source": [
    "nations=df.where(filter)\n",
    "nations.dropna()\n",
    "plt.figure(figsize=(16, 6))\n",
    "sns.histplot(data=nations, x='overall_rating',hue='nationality',kde=True)"
   ]
  },
  {
   "cell_type": "markdown",
   "metadata": {},
   "source": [
    "### Hipotesis:\n",
    "\n",
    "\n",
    "   - $ H_{0} : \\mu_{I} =\\mu_{S} =\\mu_{E} $ Els jugadors anglesos , italians i espanyols de mitja  estan **igual** de valorats\n",
    "   - $ H_{1} : \\mu_{I} \\neq \\mu_{S}\\neq \\mu_{E}  $ Els jugadors anglesos , italians i espanyols de mitja **no estan igual** de valorats\n",
    "     "
   ]
  },
  {
   "cell_type": "code",
   "execution_count": 219,
   "metadata": {},
   "outputs": [
    {
     "name": "stdout",
     "output_type": "stream",
     "text": [
      "F-statistic = -1.660\n",
      "p-value = 0.000\n",
      "We can reject H0\n"
     ]
    }
   ],
   "source": [
    "alpha = 0.05\n",
    "England = nations.loc[nations.nationality=='England','overall_rating']\n",
    "Italy = nations.loc[nations.nationality=='Italy','overall_rating']\n",
    "Spain = nations.loc[nations.nationality=='Spain','overall_rating']\n",
    "stats, p = f_oneway(Italy,Spain,England)\n",
    "print(f'F-statistic = {stat:.3f}\\np-value = {p:.3f}')\n",
    "print('We can not reject H0') if p > ALPHA else print('We can reject H0')"
   ]
  },
  {
   "cell_type": "markdown",
   "metadata": {},
   "source": [
    "Conclusió:\n",
    "\n",
    "Disposem de prou evidencia per rebutjar la hipotesis nula amb una significancia del 5% que els jugadors  italians , espanyos i anglesos no estan igual de ben valorats"
   ]
  }
 ],
 "metadata": {
  "kernelspec": {
   "display_name": "Python 3",
   "language": "python",
   "name": "python3"
  },
  "language_info": {
   "codemirror_mode": {
    "name": "ipython",
    "version": 3
   },
   "file_extension": ".py",
   "mimetype": "text/x-python",
   "name": "python",
   "nbconvert_exporter": "python",
   "pygments_lexer": "ipython3",
   "version": "3.8.5"
  }
 },
 "nbformat": 4,
 "nbformat_minor": 4
}
